{
 "cells": [
  {
   "cell_type": "markdown",
   "metadata": {},
   "source": [
    "Suppose you're on a game show, and you're given the choice of three doors: Behind one door is a car; behind the others, goats. You pick a door, say No. 1, and the host, who knows what's behind the doors, opens *another* door, say *No. 3*, which *has a goat*. He then says to you, \"Do you want to *pick door No. 2?*\" Is it to your advantage to *switch your choice*?"
   ]
  },
  {
   "cell_type": "code",
   "execution_count": 1,
   "metadata": {
    "collapsed": false
   },
   "outputs": [
    {
     "name": "stdout",
     "output_type": "stream",
     "text": [
      "Example of get_new_door:\t[3, 3, 2, 2, 1, 1, 2, 1, 2, 3, 1, 3, 1, 3, 3, 3, 1, 1, 1, 2]\n",
      "Example of get_doors:\t\t[2, 3, 1]\n"
     ]
    }
   ],
   "source": [
    "from random import *\n",
    "from collections import OrderedDict\n",
    "def get_new_door(): return randint(1,3) # Door \"No.1\" through Door \"No.3\"\n",
    "def get_doors(): return [get_new_door() for i in range(3)]\n",
    "\n",
    "stats=OrderedDict()\n",
    "def log(k,v):\n",
    "    stats[k]=v\n",
    "    print k,v\n",
    "\n",
    "print \"Example of get_new_door:\\t%s\"    % [get_new_door() for i in range(20)]\n",
    "print \"Example of get_doors:\\t\\t%s\"     % get_doors()\n",
    "\n",
    "rounds=100000\n"
   ]
  },
  {
   "cell_type": "code",
   "execution_count": 2,
   "metadata": {
    "collapsed": false
   },
   "outputs": [
    {
     "name": "stdout",
     "output_type": "stream",
     "text": [
      "everything_is_random 0.3341\n"
     ]
    }
   ],
   "source": [
    "# This is the game you think you're playing\n",
    "win=0\n",
    "for i in range(rounds):\n",
    "    # Initial Conditions\n",
    "    car  =get_new_door()   # The car could be behind any door!\n",
    "    monty=get_new_door()   # Monty can choose any door!\n",
    "    you  =get_new_door()   # You can choose any door!\n",
    "    \n",
    "    # Win Condition\n",
    "    if you==car: win+=1\n",
    "\n",
    "log(\"everything_is_random\", win/float(rounds))        \n",
    "\n"
   ]
  },
  {
   "cell_type": "code",
   "execution_count": 3,
   "metadata": {
    "collapsed": false
   },
   "outputs": [
    {
     "name": "stdout",
     "output_type": "stream",
     "text": [
      "everything_is_random_and_you_switch 0.33763\n"
     ]
    }
   ],
   "source": [
    "# In the game you think you're playing, this is what happens if you switch.\n",
    "win=0\n",
    "for i in range(rounds):\n",
    "    # Initial Conditions\n",
    "    (car, monty, oldyou) = get_doors()\n",
    "    \n",
    "    # Apparent constraints\n",
    "    # oldyou: You, before you \"switch your choice\"  (you have to remember, to know you changed it)\n",
    "    # newyou: You, after you \"switch your choice\"    \n",
    "    # \"While these statements are true, your existing door choice is bad, get a new one.\"   \n",
    "    # oldyou==newyou: You chose to \"switch your choice\", from your old door to a new one      \n",
    "    newyou=oldyou\n",
    "    while oldyou==newyou: newyou=get_new_door()\n",
    "    \n",
    "    # Win Condition\n",
    "    if newyou==car: win+=1\n",
    "\n",
    "log(\"everything_is_random_and_you_switch\", win/float(rounds))        \n",
    "\n"
   ]
  },
  {
   "cell_type": "code",
   "execution_count": 4,
   "metadata": {
    "collapsed": false
   },
   "outputs": [
    {
     "name": "stdout",
     "output_type": "stream",
     "text": [
      "you_switch 0.66728\n"
     ]
    }
   ],
   "source": [
    "# This is the game you're actually playing\n",
    "\n",
    "win=0\n",
    "for i in range(rounds):\n",
    "    # Initial Conditions\n",
    "    (car, monty, oldyou) = get_doors()\n",
    "    \n",
    "    # Full Hidden Constraints:\n",
    "    # oldyou: You, before you \"switch your choice\" (you have to remember, to know you changed it)\n",
    "    # newyou: You, after you \"switch your choice\"    \n",
    "    # \"While these statements are true, your existing door choice is bad, get a new one.\"\n",
    "    # monty==car:     Monty selected a door with a car, \"not a goat\"\n",
    "    # monty==oldyou:  Monty selected your door, instead of \"another\" one\n",
    "    # oldyou==newyou: You chose to \"switch your choice\", from your old door to a new one\n",
    "    # newyou==monty:  You chose to \"switch your choice\" to Door \"No.2\", not Door \"No.3\" that Monty revealed\n",
    "\n",
    "    newyou=oldyou\n",
    "    while monty==car or monty==oldyou:      monty=get_new_door()  # Monty can't pick you or the car\n",
    "    while oldyou==newyou or newyou==monty: newyou=get_new_door()  # You can't pick you or Monty\n",
    "        \n",
    "    # Win Condition\n",
    "    if newyou==car: win+=1\n",
    "    \n",
    "log(\"you_switch\", win/float(rounds))        \n",
    "\n"
   ]
  },
  {
   "cell_type": "code",
   "execution_count": 5,
   "metadata": {
    "collapsed": false
   },
   "outputs": [
    {
     "name": "stdout",
     "output_type": "stream",
     "text": [
      "you_dont_switch 0.33375\n"
     ]
    }
   ],
   "source": [
    "win=0\n",
    "for i in range(rounds):\n",
    "    # Initial Conditions\n",
    "    (car, monty, oldyou) = get_doors()\n",
    "    newyou=oldyou # You are going to \"switch your choice\" at some point\n",
    "    \n",
    "    # Hidden Constraints:\n",
    "    # You don't switch.  Monty behaves the same.\n",
    "    while monty==car or monty==oldyou:  monty=get_new_door()  \n",
    "        \n",
    "    # Win Condition\n",
    "    if newyou==car: win+=1\n",
    "    \n",
    "log(\"you_dont_switch\", win/float(rounds))        \n",
    "\n"
   ]
  },
  {
   "cell_type": "code",
   "execution_count": 6,
   "metadata": {
    "collapsed": false
   },
   "outputs": [
    {
     "name": "stdout",
     "output_type": "stream",
     "text": [
      "you_switch_but_monty_is_random 0.33166\n"
     ]
    }
   ],
   "source": [
    "win=0\n",
    "for i in range(rounds):\n",
    "    # Initial Conditions\n",
    "    (car, monty, oldyou) = get_doors()\n",
    "    newyou=oldyou # You are going to \"switch your choice\" at some point\n",
    "    \n",
    "    # Hidden Constraints:\n",
    "    # You do switch.  But Monty was free to do anything.    \n",
    "    while oldyou==newyou or newyou==monty: newyou=get_new_door() \n",
    "                                                                     \n",
    "    # Win Condition\n",
    "    if newyou==car: win+=1\n",
    "    \n",
    "    \n",
    "log(\"you_switch_but_monty_is_random\", win/float(rounds))        \n",
    "\n",
    "\n"
   ]
  },
  {
   "cell_type": "code",
   "execution_count": 7,
   "metadata": {
    "collapsed": false
   },
   "outputs": [
    {
     "name": "stdout",
     "output_type": "stream",
     "text": [
      "you_switch_monty_only_avoids_you_not_car 0.33449\n"
     ]
    }
   ],
   "source": [
    "win=0\n",
    "for i in range(rounds):\n",
    "    # Initial Conditions\n",
    "    (car, monty, oldyou) = get_doors()\n",
    "    \n",
    "    # Hidden Constraints:\n",
    "    # You switch, but Monty only avoids the car, he might actually have unveiled your original door!\n",
    "    newyou=oldyou \n",
    "    while monty==oldyou:  monty=get_new_door()  \n",
    "    while oldyou==newyou or newyou==monty: newyou=get_new_door()\n",
    "        \n",
    "    # Win Condition\n",
    "    if newyou==car: win+=1\n",
    "    \n",
    "\n",
    "log(\"you_switch_monty_only_avoids_you_not_car\", win/float(rounds))        \n",
    "\n",
    "\n"
   ]
  },
  {
   "cell_type": "code",
   "execution_count": 8,
   "metadata": {
    "collapsed": false
   },
   "outputs": [
    {
     "name": "stdout",
     "output_type": "stream",
     "text": [
      "you_switch_you_dont_avoid_montys_goat 0.33375\n"
     ]
    }
   ],
   "source": [
    "win=0\n",
    "for i in range(rounds):\n",
    "    # Initial Conditions\n",
    "    (car, monty, oldyou) = get_doors()\n",
    "    \n",
    "    # Hidden Constraints:\n",
    "    # You switch, but you only avoid your original choice.  You might pick Monty's revealed goat!\n",
    "    newyou=oldyou\n",
    "    while monty==car or monty==oldyou:  monty=get_new_door()\n",
    "    while oldyou==newyou: newyou=get_new_door() \n",
    "        \n",
    "    # Win Condition\n",
    "    if newyou==car: win+=1\n",
    "    \n",
    "log(\"you_switch_you_dont_avoid_montys_goat\",win/float(rounds))\n",
    "\n"
   ]
  },
  {
   "cell_type": "code",
   "execution_count": 9,
   "metadata": {
    "collapsed": false
   },
   "outputs": [
    {
     "name": "stdout",
     "output_type": "stream",
     "text": [
      "you_switch_first 0.33218\n"
     ]
    }
   ],
   "source": [
    "win=0\n",
    "for i in range(rounds):\n",
    "    # Initial Conditions\n",
    "    (car, monty, oldyou) = get_doors()\n",
    "    \n",
    "    # Hidden Constraints:\n",
    "    # Everybody does the same thing, but you switch before Monty does\n",
    "    newyou=oldyou \n",
    "    while oldyou==newyou or newyou==monty: newyou=get_new_door()        \n",
    "    while monty==car or monty==oldyou:  monty=get_new_door()\n",
    "        \n",
    "    # Win Condition\n",
    "    if newyou==car: win+=1\n",
    "\n",
    "log(\"you_switch_first\",win/float(rounds))\n"
   ]
  },
  {
   "cell_type": "code",
   "execution_count": 10,
   "metadata": {
    "collapsed": false
   },
   "outputs": [
    {
     "name": "stdout",
     "output_type": "stream",
     "text": [
      "monty_avoids_car_not_you 0.49854\n"
     ]
    }
   ],
   "source": [
    "win=0\n",
    "for i in range(rounds):\n",
    "    # Initial Conditions\n",
    "    (car, monty, oldyou) = get_doors()\n",
    "    newyou=oldyou\n",
    "    \n",
    "    # Hidden Constraints:\n",
    "    # Monty avoids the car, doesn't avoid you.\n",
    "    while monty==car:  monty=get_new_door()\n",
    "    while oldyou==newyou or newyou==monty: newyou=get_new_door()\n",
    "        \n",
    "    # Win Condition\n",
    "    if newyou==car: win+=1\n",
    "    \n",
    "log(\"monty_avoids_car_not_you\",win/float(rounds))\n",
    "\n"
   ]
  },
  {
   "cell_type": "code",
   "execution_count": 11,
   "metadata": {
    "collapsed": false
   },
   "outputs": [
    {
     "name": "stdout",
     "output_type": "stream",
     "text": [
      "monty_avoids_car_you_avoid_monty 0.50173\n"
     ]
    }
   ],
   "source": [
    "win=0\n",
    "for i in range(rounds):\n",
    "    # Initial Conditions\n",
    "    (car, monty, you) = get_doors()\n",
    "    \n",
    "    # Hidden Constraints:\n",
    "    while monty==car:    monty=get_new_door()  # Monty avoids the car.\n",
    "    while you==monty:    you=get_new_door()    # You avoid Monty.\n",
    "        \n",
    "    # Win Condition\n",
    "    if you==car: win+=1\n",
    "    \n",
    "log(\"monty_avoids_car_you_avoid_monty\",win/float(rounds))\n"
   ]
  },
  {
   "cell_type": "code",
   "execution_count": 12,
   "metadata": {
    "collapsed": false
   },
   "outputs": [
    {
     "name": "stdout",
     "output_type": "stream",
     "text": [
      "simplest_expression 0.6659\n"
     ]
    }
   ],
   "source": [
    "win=0\n",
    "for i in range(rounds):\n",
    "    # Initial Conditions\n",
    "    (car, monty, you) = get_doors()\n",
    "    \n",
    "    # Hidden Constraints:\n",
    "    monty_you=you\n",
    "    while monty==car or monty==monty_you:  monty=get_new_door() #Monty avoids the car and you\n",
    "    while you==monty or you==monty_you:    you=get_new_door()   #You avoid Monty and his old view of you\n",
    "        \n",
    "    # Win Condition\n",
    "    if you==car: win+=1\n",
    "    \n",
    "log(\"simplest_expression\",win/float(rounds))\n",
    "\n",
    "\n"
   ]
  },
  {
   "cell_type": "code",
   "execution_count": 13,
   "metadata": {
    "collapsed": false
   },
   "outputs": [
    {
     "name": "stdout",
     "output_type": "stream",
     "text": [
      "everything_is_random 0.3341\n",
      "everything_is_random_and_you_switch 0.33763\n",
      "you_switch 0.66728\n",
      "you_dont_switch 0.33375\n",
      "you_switch_but_monty_is_random 0.33166\n",
      "you_switch_monty_only_avoids_you_not_car 0.33449\n",
      "you_switch_you_dont_avoid_montys_goat 0.33375\n",
      "you_switch_first 0.33218\n",
      "monty_avoids_car_not_you 0.49854\n",
      "monty_avoids_car_you_avoid_monty 0.50173\n",
      "simplest_expression 0.6659\n"
     ]
    }
   ],
   "source": [
    "for k in stats.keys():\n",
    "    print k, stats[k]"
   ]
  }
 ],
 "metadata": {
  "kernelspec": {
   "display_name": "Python 2",
   "language": "python",
   "name": "python2"
  },
  "language_info": {
   "codemirror_mode": {
    "name": "ipython",
    "version": 2
   },
   "file_extension": ".py",
   "mimetype": "text/x-python",
   "name": "python",
   "nbconvert_exporter": "python",
   "pygments_lexer": "ipython2",
   "version": "2.7.6"
  }
 },
 "nbformat": 4,
 "nbformat_minor": 0
}
